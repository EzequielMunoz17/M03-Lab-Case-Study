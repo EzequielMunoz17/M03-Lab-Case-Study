{
 "cells": [
  {
   "cell_type": "code",
   "execution_count": 3,
   "id": "a19d2ad3",
   "metadata": {},
   "outputs": [
    {
     "name": "stdout",
     "output_type": "stream",
     "text": [
      "Initial list of things\n",
      "['mozzarella', 'cinderella ', 'salmonella']\n",
      "List with person being capitalized\n",
      "['mozzarella', 'Cinderella ', 'salmonella']\n",
      "List with cheesy thing converted to upper\n",
      "['MOZZARELLA', 'Cinderella ', 'salmonella']\n",
      "List with disease removed \n",
      "['MOZZARELLA', 'Cinderella ']\n",
      "List with new element\n",
      "['MOZZARELLA', 'Cinderella ', 'Noble Prize']\n"
     ]
    }
   ],
   "source": [
    "7.4-7.7\n",
    "thing=[\"mozzarella\", \"cinderella \", \"salmonella\"]\n",
    "print(\"Initial list of things\")\n",
    "print(thing)\n",
    "thing[1]=thing[1].capitalize()\n",
    "print(\"List with person being capitalized\")\n",
    "print(thing)\n",
    "thing[0]=thing[0].upper()\n",
    "print(\"List with cheesy thing converted to upper\")\n",
    "print(thing)\n",
    "print(\"List with disease removed \")\n",
    "thing.remove(thing[2])\n",
    "print(thing)\n",
    "print(\"List with new element\")\n",
    "thing.append(\"Noble Prize\")\n",
    "print(thing)"
   ]
  },
  {
   "cell_type": "code",
   "execution_count": 4,
   "id": "748e1c79",
   "metadata": {},
   "outputs": [
    {
     "name": "stdout",
     "output_type": "stream",
     "text": [
      "['Harry', 'Ron', 'Hermione']\n",
      "5\n"
     ]
    }
   ],
   "source": [
    "9.1-9.2\n",
    "def good():\n",
    "    return ['Harry', 'Ron', 'Hermione']\n",
    "\n",
    "print(good())\n",
    "\n",
    "def get_odds():\n",
    "    for number in range(1, 10, 2):\n",
    "        yield number\n",
    "\n",
    "# use for loop to find the third value\n",
    "for i, number in enumerate(get_odds()):\n",
    "    if i == 2:\n",
    "        print(number)\n",
    "        break"
   ]
  }
 ],
 "metadata": {
  "kernelspec": {
   "display_name": "Python 3 (ipykernel)",
   "language": "python",
   "name": "python3"
  },
  "language_info": {
   "codemirror_mode": {
    "name": "ipython",
    "version": 3
   },
   "file_extension": ".py",
   "mimetype": "text/x-python",
   "name": "python",
   "nbconvert_exporter": "python",
   "pygments_lexer": "ipython3",
   "version": "3.10.9"
  }
 },
 "nbformat": 4,
 "nbformat_minor": 5
}
