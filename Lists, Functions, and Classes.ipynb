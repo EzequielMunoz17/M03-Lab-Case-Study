{
 "cells": [
  {
   "cell_type": "code",
   "execution_count": 1,
   "id": "60ea32f9",
   "metadata": {},
   "outputs": [
    {
     "name": "stdout",
     "output_type": "stream",
     "text": [
      "Enter the year: 2022\n",
      "Enter the make: Toyota\n",
      "Enter the model: Corolla\n",
      "Enter the number of doors (2 or 4): 4\n",
      "Enter the type of roof (solid or sun roof): sun roof\n",
      "Vehicle type: car\n",
      "Year: 2022\n",
      "Make: Toyota\n",
      "Model: Corolla\n",
      "Number of doors: 4\n",
      "Type of roof: sun roof\n"
     ]
    }
   ],
   "source": [
    "class Vehicle:\n",
    "    def __init__(self, vehicle_type):\n",
    "        self.vehicle_type = vehicle_type\n",
    "\n",
    "\n",
    "class Automobile(Vehicle):\n",
    "    def __init__(self, vehicle_type):\n",
    "        super().__init__(vehicle_type)\n",
    "        self.year = None\n",
    "        self.make = None\n",
    "        self.model = None\n",
    "        self.doors = None\n",
    "        self.roof = None\n",
    "\n",
    "    def set_attributes(self):\n",
    "        self.year = input(\"Enter the year: \")\n",
    "        self.make = input(\"Enter the make: \")\n",
    "        self.model = input(\"Enter the model: \")\n",
    "        self.doors = input(\"Enter the number of doors (2 or 4): \")\n",
    "        self.roof = input(\"Enter the type of roof (solid or sun roof): \")\n",
    "\n",
    "    def display_attributes(self):\n",
    "        print(\"Vehicle type: \" + self.vehicle_type)\n",
    "        print(\"Year: \" + self.year)\n",
    "        print(\"Make: \" + self.make)\n",
    "        print(\"Model: \" + self.model)\n",
    "        print(\"Number of doors: \" + self.doors)\n",
    "        print(\"Type of roof: \" + self.roof)\n",
    "\n",
    "\n",
    "def main():\n",
    "    vehicle_type = \"car\"\n",
    "    automobile = Automobile(vehicle_type)\n",
    "    automobile.set_attributes()\n",
    "    automobile.display_attributes()\n",
    "\n",
    "\n",
    "if __name__ == '__main__':\n",
    "    main()"
   ]
  },
  {
   "cell_type": "code",
   "execution_count": null,
   "id": "a34ad76f",
   "metadata": {},
   "outputs": [],
   "source": []
  }
 ],
 "metadata": {
  "kernelspec": {
   "display_name": "Python 3 (ipykernel)",
   "language": "python",
   "name": "python3"
  },
  "language_info": {
   "codemirror_mode": {
    "name": "ipython",
    "version": 3
   },
   "file_extension": ".py",
   "mimetype": "text/x-python",
   "name": "python",
   "nbconvert_exporter": "python",
   "pygments_lexer": "ipython3",
   "version": "3.10.9"
  }
 },
 "nbformat": 4,
 "nbformat_minor": 5
}
